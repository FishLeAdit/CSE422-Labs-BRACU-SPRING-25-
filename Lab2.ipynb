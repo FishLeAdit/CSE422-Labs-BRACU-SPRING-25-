{
  "cells": [
    {
      "cell_type": "code",
      "execution_count": 27,
      "metadata": {
        "colab": {
          "base_uri": "https://localhost:8080/"
        },
        "id": "vqB0iIAkmnBt",
        "outputId": "3b072a0f-bfdc-48ec-827b-c84c17eaaa58"
      },
      "outputs": [
        {
          "name": "stdout",
          "output_type": "stream",
          "text": [
            "Best strategy: {'stop_loss': 1, 'take_profit': 8.01, 'trade_size': 30}\n",
            "Final profit: 109.3\n"
          ]
        }
      ],
      "source": [
        "###TASK 1\n",
        "import random\n",
        "\n",
        "starting_capital = 1000\n",
        "historical_prices = [-1.2, 3.4, -0.8, 2.1, -2.5, 1.7, -0.3, 5.8, -1.1, 3.5]\n",
        "n_pop = 4\n",
        "generations =  10\n",
        "\n",
        "def chromegen():\n",
        "    return {\n",
        "        \"stop_loss\": random.randint(1, 99),\n",
        "        \"take_profit\": random.randint(1, 99),\n",
        "        \"trade_size\": random.randint(1, 99)\n",
        "    }\n",
        "\n",
        "def initialise_population(n_pop):\n",
        "    populare = []\n",
        "    for i in range(n_pop):\n",
        "        populare.append(chromegen())\n",
        "    return populare\n",
        "\n",
        "def eval_fitness(chrom):\n",
        "    capital = starting_capital\n",
        "    stoplosspc = chrom[\"stop_loss\"] / 100\n",
        "    takeprofitpc = chrom[\"take_profit\"] / 100\n",
        "    tradesizepc = chrom[\"trade_size\"] / 100\n",
        "\n",
        "    for percchange in historical_prices:\n",
        "        traded_amount = capital * tradesizepc\n",
        "        proforloss = traded_amount * (percchange / 100)\n",
        "\n",
        "        if percchange < -stoplosspc:\n",
        "            proforloss = -stoplosspc * traded_amount\n",
        "        elif percchange > takeprofitpc:\n",
        "            proforloss = takeprofitpc * traded_amount\n",
        "\n",
        "        capital += proforloss\n",
        "    return capital - starting_capital\n",
        "\n",
        "def crossover(parent1, parent2):\n",
        "    child = parent1.copy()\n",
        "    ranchos = random.choice([\"stop_loss\", \"take_profit\", \"trade_size\"])\n",
        "    child[ranchos] = random.choice([parent1[ranchos], parent2[ranchos]])\n",
        "    return child\n",
        "\n",
        "def mutate(chrom):\n",
        "    if random.random() < 0.3:\n",
        "        ranchos = random.choice([\"stop_loss\", \"take_profit\", \"trade_size\"])\n",
        "        chrom[ranchos] += random.uniform(-5,5)\n",
        "        chrom[ranchos] = round(max(1, min(chrom[ranchos], 99)), 2)\n",
        "\n",
        "    return chrom\n",
        "\n",
        "def gen_algo(initial_population = None):\n",
        "    if initial_population != None:\n",
        "        population = initial_population\n",
        "    else:\n",
        "        population = initialise_population(n_pop)\n",
        "\n",
        "    for _ in range(generations):\n",
        "        fitness_scores = []\n",
        "        for chrom in population:\n",
        "            fitness = eval_fitness(chrom)\n",
        "            fitness_scores.append((chrom, fitness))\n",
        "        for i in range(len(fitness_scores)):\n",
        "            for j in range(i+1, len(fitness_scores)):\n",
        "                if fitness_scores[i][1] < fitness_scores[j][1]:\n",
        "                    fitness_scores[i], fitness_scores[j] = fitness_scores[j], fitness_scores[i]\n",
        "        population = []\n",
        "        for fs in fitness_scores:\n",
        "            population.append(fs[0])\n",
        "\n",
        "        new_population = [population[0]]\n",
        "        while len(new_population)<n_pop:\n",
        "            parent_1 = random.choice(population)\n",
        "            parent_2 = random.choice(population)\n",
        "            while parent_2 == parent_1:\n",
        "                parent_2 = random.choice(population)\n",
        "            \n",
        "            child = crossover(parent_1, parent_2)\n",
        "            child = mutate(child)\n",
        "            new_population.append(child)\n",
        "        population = new_population\n",
        "\n",
        "\n",
        "    best_str = population[0]\n",
        "    final_capital = eval_fitness(best_str)\n",
        "    return best_str, round(final_capital,1)\n",
        "\n",
        "inipop = [ {\"stop_loss\": 2, \"take_profit\": 5, \"trade_size\": 20},\n",
        "{\"stop_loss\": 3, \"take_profit\": 7, \"trade_size\": 30},\n",
        "{\"stop_loss\": 1.5, \"take_profit\": 4, \"trade_size\": 25},\n",
        "{\"stop_loss\": 2.5, \"take_profit\": 6, \"trade_size\": 15}\n",
        "]\n",
        "best_str, final_capital = gen_algo(inipop)\n",
        "output = f\"Best strategy: {best_str}\\nFinal profit: {final_capital}\"\n",
        "print(output)"
      ]
    },
    {
      "cell_type": "code",
      "execution_count": 1,
      "metadata": {
        "colab": {
          "base_uri": "https://localhost:8080/"
        },
        "id": "Ztt8wuximnBv",
        "outputId": "06ac4f09-9f9e-44f4-d747-0c43d56da9f5"
      },
      "outputs": [
        {
          "name": "stdout",
          "output_type": "stream",
          "text": [
            "Parent 1: {'stop_loss': 2.5, 'take_profit': 6, 'trade_size': 15}\n",
            "Parent 2: {'stop_loss': 1.5, 'take_profit': 4, 'trade_size': 25}\n",
            "Child 1: {'stop_loss': 2.5, 'take_profit': 4, 'trade_size': 15}\n",
            "Child 2: {'stop_loss': 1.5, 'take_profit': 6, 'trade_size': 25}\n"
          ]
        }
      ],
      "source": [
        "###TASK 2\n",
        "import random\n",
        "\n",
        "def twopoint_crossover(parent1, parent2):\n",
        "    points = random.sample(range(3), 2)\n",
        "    point1 = min(points)\n",
        "    point2 = max(points)\n",
        "    child1 = parent1.copy()\n",
        "    child2 = parent2.copy()\n",
        "\n",
        "    if point1 == 0:\n",
        "        child1[\"stop_loss\"], child2[\"stop_loss\"] = child2[\"stop_loss\"], child1[\"stop_loss\"]\n",
        "    elif point1 == 1:\n",
        "        child1[\"take_profit\"], child2[\"take_profit\"] = child2[\"take_profit\"], child1[\"take_profit\"]\n",
        "    elif point2 == 2:\n",
        "        child1[\"trade_size\"], child2[\"trade_size\"] = child2[\"trade_size\"], child1[\"trade_size\"]\n",
        "\n",
        "    return child1, child2\n",
        "\n",
        "\n",
        "\n",
        "inipop = [{\"stop_loss\": 2, \"take_profit\": 5, \"trade_size\": 20}, {\"stop_loss\": 3, \"take_profit\": 7,\n",
        "\"trade_size\": 30},\n",
        "{\"stop_loss\": 1.5, \"take_profit\": 4, \"trade_size\": 25},\n",
        "{\"stop_loss\": 2.5, \"take_profit\": 6, \"trade_size\": 15}\n",
        "]\n",
        "\n",
        "parent1, parent2 = random.sample(inipop, 2)\n",
        "child1, child2 = twopoint_crossover(parent1, parent2)\n",
        "\n",
        "print(f\"Parent 1: {parent1}\\nParent 2: {parent2}\\nChild 1: {child1}\\nChild 2: {child2}\")"
      ]
    }
  ],
  "metadata": {
    "colab": {
      "provenance": []
    },
    "kernelspec": {
      "display_name": "Python 3",
      "language": "python",
      "name": "python3"
    },
    "language_info": {
      "codemirror_mode": {
        "name": "ipython",
        "version": 3
      },
      "file_extension": ".py",
      "mimetype": "text/x-python",
      "name": "python",
      "nbconvert_exporter": "python",
      "pygments_lexer": "ipython3",
      "version": "3.10.6"
    }
  },
  "nbformat": 4,
  "nbformat_minor": 0
}
