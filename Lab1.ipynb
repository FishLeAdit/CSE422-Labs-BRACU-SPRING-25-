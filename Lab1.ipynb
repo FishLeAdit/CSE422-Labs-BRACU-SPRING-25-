{
 "cells": [
  {
   "cell_type": "code",
   "execution_count": 26,
   "metadata": {},
   "outputs": [],
   "source": [
    "\n",
    "def astar(start, end, neighbours, heurestics):\n",
    "    queue = [(heurestics[start],0,start,[start])]\n",
    "    visited = set()\n",
    "\n",
    "    while queue:\n",
    "        queue.sort()\n",
    "        f,g,node,path=queue.pop(0)\n",
    "\n",
    "        if node in visited:\n",
    "            continue\n",
    "        visited.add(node)\n",
    "\n",
    "        if node == end:\n",
    "            return path, g\n",
    "        \n",
    "        for neighbour, cost in neighbours.get(node, {}).items():\n",
    "            if neighbour in visited:\n",
    "                continue\n",
    "            new_g = g + cost\n",
    "            new_f = new_g + heurestics.get(neighbour, float('inf'))\n",
    "            queue.append((new_f, new_g, neighbour, path + [neighbour]))\n",
    "\n",
    "    return \n",
    "    \n",
    "    "
   ]
  },
  {
   "cell_type": "code",
   "execution_count": 27,
   "metadata": {},
   "outputs": [
    {
     "name": "stdout",
     "output_type": "stream",
     "text": [
      "Path: Arad-->Sibiu-->RimnicuVilcea-->Pitesti-->Bucharest\n",
      "Distance: 418\n"
     ]
    }
   ],
   "source": [
    "\n",
    "def main():\n",
    "    heurestics = {}\n",
    "    neighbours = {}\n",
    "    file = open(\"ROMANIA.txt\", \"r\")\n",
    "    for l in file:\n",
    "        stuff = l.strip().split(\" \")\n",
    "        \n",
    "        city,heurestic = stuff[0],int(stuff[1])\n",
    "        heurestics[city] = heurestic\n",
    "        neighbours[city] = {}\n",
    "\n",
    "        for i in range(2, len(stuff), 2):\n",
    "            neighbours[city][stuff[i]] = int(stuff[i+1])\n",
    "\n",
    "    start = input(\"Begin: \")\n",
    "    end = input(\"End: \")\n",
    "    path, distance = astar(start, end, neighbours, heurestics)\n",
    "\n",
    "    if path:\n",
    "        print(f\"Path: {'-->'.join(path)}\")\n",
    "        print(f\"Distance: {distance}\")\n",
    "    else:\n",
    "        print(\"No path found\")\n",
    "\n",
    "main()\n",
    "    \n"
   ]
  },
  {
   "cell_type": "code",
   "execution_count": null,
   "metadata": {},
   "outputs": [],
   "source": []
  }
 ],
 "metadata": {
  "kernelspec": {
   "display_name": "Python 3",
   "language": "python",
   "name": "python3"
  },
  "language_info": {
   "codemirror_mode": {
    "name": "ipython",
    "version": 3
   },
   "file_extension": ".py",
   "mimetype": "text/x-python",
   "name": "python",
   "nbconvert_exporter": "python",
   "pygments_lexer": "ipython3",
   "version": "3.10.6"
  }
 },
 "nbformat": 4,
 "nbformat_minor": 2
}
